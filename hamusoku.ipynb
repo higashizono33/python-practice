{
  "nbformat": 4,
  "nbformat_minor": 0,
  "metadata": {
    "colab": {
      "name": "hamusoku.ipynb",
      "provenance": [],
      "authorship_tag": "ABX9TyNEBV6gspyqSNChyDcVfuSB",
      "include_colab_link": true
    },
    "kernelspec": {
      "name": "python3",
      "display_name": "Python 3"
    }
  },
  "cells": [
    {
      "cell_type": "markdown",
      "metadata": {
        "id": "view-in-github",
        "colab_type": "text"
      },
      "source": [
        "<a href=\"https://colab.research.google.com/github/higashizono33/Pre-Bootcamp/blob/main/hamusoku.ipynb\" target=\"_parent\"><img src=\"https://colab.research.google.com/assets/colab-badge.svg\" alt=\"Open In Colab\"/></a>"
      ]
    },
    {
      "cell_type": "code",
      "metadata": {
        "id": "QuXPAggcuJ5X"
      },
      "source": [
        "import requests\n",
        "\n",
        "from bs4 import BeautifulSoup"
      ],
      "execution_count": 1,
      "outputs": []
    },
    {
      "cell_type": "code",
      "metadata": {
        "id": "rm5ngLnmualC"
      },
      "source": [
        "page_url = \"http://hamusoku.com/\"\n",
        "r = requests.get(page_url)\n",
        "\n",
        "soup = BeautifulSoup(r.text, features=\"html.parser\")"
      ],
      "execution_count": 2,
      "outputs": []
    },
    {
      "cell_type": "code",
      "metadata": {
        "id": "3gBI8c0EvD5t"
      },
      "source": [
        "h1_tags = soup.find_all(\"h1\", class_=\"article-title\")"
      ],
      "execution_count": 3,
      "outputs": []
    },
    {
      "cell_type": "code",
      "metadata": {
        "colab": {
          "base_uri": "https://localhost:8080/"
        },
        "id": "u3DUmP1hv-hB",
        "outputId": "e2c0a11f-601d-4141-e215-f16552292892"
      },
      "source": [
        "h1_tags[0]"
      ],
      "execution_count": 5,
      "outputs": [
        {
          "output_type": "execute_result",
          "data": {
            "text/plain": [
              "<h1 class=\"article-title entry-title\"><a href=\"http://hamusoku.com/archives/10339901.html\" rel=\"bookmark\" title=\"個別記事ページへ\">ＮＨＫ子供科学電話相談、コロナが不安な子供に「日本のニュースを見るのを止めるの。海外のニュースを見て」</a>\n",
              "<a class=\"twitter-share-button\" data-count=\"horizontal\" data-lang=\"en\" data-text=\"ハムスター速報：ＮＨＫ子供科学電話相談、コロナが不安な子供に「日本のニュースを見るのを止めるの。海外のニュースを見て」\" data-url=\"http://hamusoku.com/archives/10339901.html\" data-via=\"hamusoku\" href=\"http://twitter.com/share\">Tweet</a>\n",
              "<script><!--\n",
              "  tweetCountDisplay(\"http://hamusoku.com/archives/10339901.html\");\n",
              "--></script>\n",
              "</h1>"
            ]
          },
          "metadata": {
            "tags": []
          },
          "execution_count": 5
        }
      ]
    },
    {
      "cell_type": "code",
      "metadata": {
        "colab": {
          "base_uri": "https://localhost:8080/"
        },
        "id": "J5AlRPpMwEZa",
        "outputId": "25a1dbea-1ad8-42c0-a15e-8bd950d637fb"
      },
      "source": [
        "h1_tags[0].find_all(\"a\")"
      ],
      "execution_count": 7,
      "outputs": [
        {
          "output_type": "execute_result",
          "data": {
            "text/plain": [
              "[<a href=\"http://hamusoku.com/archives/10339901.html\" rel=\"bookmark\" title=\"個別記事ページへ\">ＮＨＫ子供科学電話相談、コロナが不安な子供に「日本のニュースを見るのを止めるの。海外のニュースを見て」</a>,\n",
              " <a class=\"twitter-share-button\" data-count=\"horizontal\" data-lang=\"en\" data-text=\"ハムスター速報：ＮＨＫ子供科学電話相談、コロナが不安な子供に「日本のニュースを見るのを止めるの。海外のニュースを見て」\" data-url=\"http://hamusoku.com/archives/10339901.html\" data-via=\"hamusoku\" href=\"http://twitter.com/share\">Tweet</a>]"
            ]
          },
          "metadata": {
            "tags": []
          },
          "execution_count": 7
        }
      ]
    },
    {
      "cell_type": "code",
      "metadata": {
        "id": "ihDmqLcFwsBv"
      },
      "source": [
        "a_article_tag = h1_tags[0].find_all(\"a\")[0]"
      ],
      "execution_count": 9,
      "outputs": []
    },
    {
      "cell_type": "code",
      "metadata": {
        "colab": {
          "base_uri": "https://localhost:8080/"
        },
        "id": "fHtr8V7gxArD",
        "outputId": "a3c25099-c788-4f6a-cc01-f31fb9cd6c47"
      },
      "source": [
        "a_article_tag"
      ],
      "execution_count": 10,
      "outputs": [
        {
          "output_type": "execute_result",
          "data": {
            "text/plain": [
              "<a href=\"http://hamusoku.com/archives/10339901.html\" rel=\"bookmark\" title=\"個別記事ページへ\">ＮＨＫ子供科学電話相談、コロナが不安な子供に「日本のニュースを見るのを止めるの。海外のニュースを見て」</a>"
            ]
          },
          "metadata": {
            "tags": []
          },
          "execution_count": 10
        }
      ]
    },
    {
      "cell_type": "code",
      "metadata": {
        "id": "eNfD0X2cxB0S"
      },
      "source": [
        "article_a_tag = h1_tags[0].find(\"a\", attrs={\"rel\": \"bookmark\"})"
      ],
      "execution_count": 22,
      "outputs": []
    },
    {
      "cell_type": "code",
      "metadata": {
        "colab": {
          "base_uri": "https://localhost:8080/"
        },
        "id": "kUuk5Gq-xhW_",
        "outputId": "6b14d6cd-1b1a-45e9-f0cd-6b8e93003e30"
      },
      "source": [
        "article_a_tag"
      ],
      "execution_count": 23,
      "outputs": [
        {
          "output_type": "execute_result",
          "data": {
            "text/plain": [
              "<a href=\"http://hamusoku.com/archives/10339901.html\" rel=\"bookmark\" title=\"個別記事ページへ\">ＮＨＫ子供科学電話相談、コロナが不安な子供に「日本のニュースを見るのを止めるの。海外のニュースを見て」</a>"
            ]
          },
          "metadata": {
            "tags": []
          },
          "execution_count": 23
        }
      ]
    },
    {
      "cell_type": "code",
      "metadata": {
        "colab": {
          "base_uri": "https://localhost:8080/",
          "height": 35
        },
        "id": "vDuZvjNqxmGM",
        "outputId": "99a93163-d3db-4c89-bcc4-6c3f14451a9b"
      },
      "source": [
        "article_a_tag.text"
      ],
      "execution_count": 24,
      "outputs": [
        {
          "output_type": "execute_result",
          "data": {
            "application/vnd.google.colaboratory.intrinsic+json": {
              "type": "string"
            },
            "text/plain": [
              "'ＮＨＫ子供科学電話相談、コロナが不安な子供に「日本のニュースを見るのを止めるの。海外のニュースを見て」'"
            ]
          },
          "metadata": {
            "tags": []
          },
          "execution_count": 24
        }
      ]
    },
    {
      "cell_type": "code",
      "metadata": {
        "colab": {
          "base_uri": "https://localhost:8080/",
          "height": 35
        },
        "id": "S30-z6-FxysC",
        "outputId": "9491dbe0-b7d2-46ef-b5fe-85977657d40f"
      },
      "source": [
        "article_a_tag.get(\"href\")"
      ],
      "execution_count": 25,
      "outputs": [
        {
          "output_type": "execute_result",
          "data": {
            "application/vnd.google.colaboratory.intrinsic+json": {
              "type": "string"
            },
            "text/plain": [
              "'http://hamusoku.com/archives/10339901.html'"
            ]
          },
          "metadata": {
            "tags": []
          },
          "execution_count": 25
        }
      ]
    },
    {
      "cell_type": "code",
      "metadata": {
        "colab": {
          "base_uri": "https://localhost:8080/"
        },
        "id": "g8BW20cq1Q6B",
        "outputId": "985938b6-0992-4906-d4f1-6fe48dcad344"
      },
      "source": [
        " data = []\n",
        "\n",
        " for h1_tag in h1_tags:\n",
        "   tmp_article_a_tag = h1_tag.find_all(\"a\")[0]\n",
        "\n",
        "   title = tmp_article_a_tag.text\n",
        "   url = tmp_article_a_tag.get(\"href\")\n",
        "\n",
        "   print(\"title:{} url:{}\".format(title, url))\n",
        "\n",
        "   data.append([title, url])"
      ],
      "execution_count": 28,
      "outputs": [
        {
          "output_type": "stream",
          "text": [
            "title:ＮＨＫ子供科学電話相談、コロナが不安な子供に「日本のニュースを見るのを止めるの。海外のニュースを見て」 url:http://hamusoku.com/archives/10339901.html\n",
            "title:農林水産省の山口長官が最難関さかな検定に合格し技官職員に動揺ｗｗｗｗｗｗｗｗｗｗ url:http://hamusoku.com/archives/10339882.html\n",
            "title:【緊急事態宣言キャンペーン】カラオケ館さん、緊急事態宣言でヤケクソになってしまう url:http://hamusoku.com/archives/10339849.html\n",
            "title:【速報】東京コロナ２３９２人 url:http://hamusoku.com/archives/10339830.html\n",
            "title:【コロナ悲報】感染拡大はGoToのせいだと騒いでいた馬鹿達と立憲民主党等の野党議員、沈黙してしまうｗｗｗｗｗｗｗｗｗｗ url:http://hamusoku.com/archives/10339783.html\n",
            "title:【おかわり乞食】韓国「日本政府は慰安婦に賠償しろ」 url:http://hamusoku.com/archives/10339737.html\n",
            "title:【満員コロナ】緊急事態宣言出ても何も変わらないいつもの通勤風景ｗｗｗｗｗｗｗｗｗｗｗ url:http://hamusoku.com/archives/10339699.html\n",
            "title:飲食店経営者「医療従事者は頑張ってる？こっちだって頑張ってるよ。なんで飲食店ばかりに押し付けるんだ。キャパオーバーになるから緊急事態宣言しろって盗っ人猛々しい」 url:http://hamusoku.com/archives/10339667.html\n",
            "title:バイトワイ「ええ！？wまじすか！？w」「お疲れ様でーす！ww」 url:http://hamusoku.com/archives/10339573.html\n",
            "title:秋田で強風による電線断線により４万戸近くが大規模停電…復旧の見通し立たず url:http://hamusoku.com/archives/10339564.html\n"
          ],
          "name": "stdout"
        }
      ]
    },
    {
      "cell_type": "code",
      "metadata": {
        "id": "UwcbP2gZ2xJK"
      },
      "source": [
        "!pip install -U -q PyDrive\n",
        "\n",
        "from pydrive.auth import GoogleAuth\n",
        "from pydrive.drive import GoogleDrive\n",
        "from google.colab import auth\n",
        "from oauth2client.client import GoogleCredentials\n",
        "\n",
        "auth.authenticate_user()\n",
        "gauth = GoogleAuth()\n",
        "gauth.credentials = GoogleCredentials.get_application_default()\n",
        "drive = GoogleDrive(gauth)"
      ],
      "execution_count": 29,
      "outputs": []
    },
    {
      "cell_type": "code",
      "metadata": {
        "id": "XJfTgr2x35y_"
      },
      "source": [
        "with open(\"hamusoku.txt\",\"w\") as f:\n",
        "  for d in data:\n",
        "    f.write(\"{},{}\\n\".format(d[0], d[1]))\n"
      ],
      "execution_count": 31,
      "outputs": []
    },
    {
      "cell_type": "code",
      "metadata": {
        "id": "HmjOZFXt40mw"
      },
      "source": [
        "upload_file_2 = drive.CreateFile()\n",
        "upload_file_2.SetContentFile(\"hamusoku.txt\")\n",
        "upload_file_2.Upload()"
      ],
      "execution_count": 32,
      "outputs": []
    }
  ]
}